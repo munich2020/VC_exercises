{
  "cells": [
    {
      "cell_type": "code",
      "execution_count": null,
      "source": [
        "%matplotlib inline"
      ],
      "outputs": [],
      "metadata": {
        "collapsed": false
      }
    },
    {
      "cell_type": "markdown",
      "source": [
        "There is no Coding exercise this week, so I just looked for Radon transform on the Internet and found this."
      ],
      "metadata": {}
    },
    {
      "cell_type": "markdown",
      "source": [
        "\r\n",
        "# Radon transform\r\n",
        "\r\n",
        "In computed tomography, the tomography reconstruction problem is to obtain\r\n",
        "a tomographic slice image from a set of projections [1]_. A projection is\r\n",
        "formed by drawing a set of parallel rays through the 2D object of interest,\r\n",
        "assigning the integral of the object's contrast along each ray to a single\r\n",
        "pixel in the projection. A single projection of a 2D object is one dimensional.\r\n",
        "To enable computed tomography reconstruction of the object, several projections\r\n",
        "must be acquired, each of them corresponding to a different angle between the\r\n",
        "rays with respect to the object. A collection of projections at several angles\r\n",
        "is called a sinogram, which is a linear transform of the original image.\r\n",
        "\r\n",
        "The inverse Radon transform is used in computed tomography to reconstruct\r\n",
        "a 2D image from the measured projections (the sinogram). A practical, exact\r\n",
        "implementation of the inverse Radon transform does not exist, but there are\r\n",
        "several good approximate algorithms available.\r\n",
        "\r\n",
        "As the inverse Radon transform reconstructs the object from a set of\r\n",
        "projections, the (forward) Radon transform can be used to simulate a\r\n",
        "tomography experiment.\r\n",
        "\r\n",
        "This script performs the Radon transform to simulate a tomography experiment\r\n",
        "and reconstructs the input image based on the resulting sinogram formed by\r\n",
        "the simulation. Two methods for performing the inverse Radon transform\r\n",
        "and reconstructing the original image are compared: The Filtered Back\r\n",
        "Projection (FBP) and the Simultaneous Algebraic Reconstruction\r\n",
        "Technique (SART).\r\n",
        "\r\n",
        "For further information on tomographic reconstruction, see:\r\n",
        "\r\n",
        ".. [1] AC Kak, M Slaney, \"Principles of Computerized Tomographic Imaging\",\r\n",
        "       IEEE Press 1988. http://www.slaney.org/pct/pct-toc.html\r\n",
        "\r\n",
        ".. [2] Wikipedia, Radon transform,\r\n",
        "       https://en.wikipedia.org/wiki/Radon_transform#Relationship_with_the_Fourier_transform\r\n",
        "\r\n",
        ".. [3] S Kaczmarz, \"Angenaeherte Aufloesung von Systemen linearer\r\n",
        "       Gleichungen\", Bulletin International de l'Academie Polonaise\r\n",
        "       des Sciences et des Lettres, 35 pp 355--357 (1937)\r\n",
        "\r\n",
        ".. [4] AH Andersen, AC Kak, \"Simultaneous algebraic reconstruction\r\n",
        "       technique (SART): a superior implementation of the ART algorithm\",\r\n",
        "       Ultrasonic Imaging 6 pp 81--94 (1984)\r\n",
        "\r\n",
        "## The forward transform\r\n",
        "\r\n",
        "As our original image, we will use the Shepp-Logan phantom. When calculating\r\n",
        "the Radon transform, we need to decide how many projection angles we wish\r\n",
        "to use. As a rule of thumb, the number of projections should be about the\r\n",
        "same as the number of pixels there are across the object (to see why this\r\n",
        "is so, consider how many unknown pixel values must be determined in the\r\n",
        "reconstruction process and compare this to the number of measurements\r\n",
        "provided by the projections), and we follow that rule here. Below is the\r\n",
        "original image and its Radon transform, often known as its *sinogram*:\r\n"
      ],
      "metadata": {}
    },
    {
      "cell_type": "code",
      "execution_count": null,
      "source": [
        "import numpy as np\r\n",
        "import matplotlib.pyplot as plt\r\n",
        "\r\n",
        "from skimage.data import shepp_logan_phantom\r\n",
        "from skimage.transform import radon, rescale\r\n",
        "\r\n",
        "image = shepp_logan_phantom()\r\n",
        "image = rescale(image, scale=0.4, mode='reflect', channel_axis=None)\r\n",
        "\r\n",
        "fig, (ax1, ax2) = plt.subplots(1, 2, figsize=(8, 4.5))\r\n",
        "\r\n",
        "ax1.set_title(\"Original\")\r\n",
        "ax1.imshow(image, cmap=plt.cm.Greys_r)\r\n",
        "\r\n",
        "theta = np.linspace(0., 180., max(image.shape), endpoint=False)\r\n",
        "sinogram = radon(image, theta=theta)\r\n",
        "dx, dy = 0.5 * 180.0 / max(image.shape), 0.5 / sinogram.shape[0]\r\n",
        "ax2.set_title(\"Radon transform\\n(Sinogram)\")\r\n",
        "ax2.set_xlabel(\"Projection angle (deg)\")\r\n",
        "ax2.set_ylabel(\"Projection position (pixels)\")\r\n",
        "ax2.imshow(sinogram, cmap=plt.cm.Greys_r,\r\n",
        "           extent=(-dx, 180.0 + dx, -dy, sinogram.shape[0] + dy),\r\n",
        "           aspect='auto')\r\n",
        "\r\n",
        "fig.tight_layout()\r\n",
        "plt.show()"
      ],
      "outputs": [],
      "metadata": {
        "collapsed": false
      }
    },
    {
      "cell_type": "markdown",
      "source": [
        "## Reconstruction with the Filtered Back Projection (FBP)\n",
        "\n",
        "The mathematical foundation of the filtered back projection is the Fourier\n",
        "slice theorem [2]_. It uses Fourier transform of the projection and\n",
        "interpolation in Fourier space to obtain the 2D Fourier transform of the\n",
        "image, which is then inverted to form the reconstructed image. The filtered\n",
        "back projection is among the fastest methods of performing the inverse\n",
        "Radon transform. The only tunable parameter for the FBP is the filter,\n",
        "which is applied to the Fourier transformed projections. It may be used to\n",
        "suppress high frequency noise in the reconstruction. ``skimage`` provides\n",
        "the filters 'ramp', 'shepp-logan', 'cosine', 'hamming', and 'hann':\n",
        "\n"
      ],
      "metadata": {}
    },
    {
      "cell_type": "code",
      "execution_count": null,
      "source": [
        "import matplotlib.pyplot as plt\r\n",
        "from skimage.transform.radon_transform import _get_fourier_filter\r\n",
        "\r\n",
        "filters = ['ramp', 'shepp-logan', 'cosine', 'hamming', 'hann']\r\n",
        "\r\n",
        "for ix, f in enumerate(filters):\r\n",
        "    response = _get_fourier_filter(2000, f)\r\n",
        "    plt.plot(response, label=f)\r\n",
        "\r\n",
        "plt.xlim([0, 1000])\r\n",
        "plt.xlabel('frequency')\r\n",
        "plt.legend()\r\n",
        "plt.show()"
      ],
      "outputs": [],
      "metadata": {
        "collapsed": false
      }
    },
    {
      "cell_type": "markdown",
      "source": [
        "Applying the inverse radon transformation with the 'ramp' filter, we get:\n",
        "\n"
      ],
      "metadata": {}
    },
    {
      "cell_type": "code",
      "execution_count": null,
      "source": [
        "from skimage.transform import iradon\r\n",
        "\r\n",
        "reconstruction_fbp = iradon(sinogram, theta=theta, filter_name='ramp')\r\n",
        "error = reconstruction_fbp - image\r\n",
        "print(f'FBP rms reconstruction error: {np.sqrt(np.mean(error**2)):.3g}')\r\n",
        "\r\n",
        "imkwargs = dict(vmin=-0.2, vmax=0.2)\r\n",
        "fig, (ax1, ax2) = plt.subplots(1, 2, figsize=(8, 4.5),\r\n",
        "                               sharex=True, sharey=True)\r\n",
        "ax1.set_title(\"Reconstruction\\nFiltered back projection\")\r\n",
        "ax1.imshow(reconstruction_fbp, cmap=plt.cm.Greys_r)\r\n",
        "ax2.set_title(\"Reconstruction error\\nFiltered back projection\")\r\n",
        "ax2.imshow(reconstruction_fbp - image, cmap=plt.cm.Greys_r, **imkwargs)\r\n",
        "plt.show()"
      ],
      "outputs": [],
      "metadata": {
        "collapsed": false
      }
    },
    {
      "cell_type": "markdown",
      "source": [
        "## Reconstruction with the Simultaneous Algebraic Reconstruction Technique\n",
        "\n",
        "Algebraic reconstruction techniques for tomography are based on a\n",
        "straightforward idea: for a pixelated image the value of a single ray in a\n",
        "particular projection is simply a sum of all the pixels the ray passes\n",
        "through on its way through the object. This is a way of expressing the\n",
        "forward Radon transform. The inverse Radon transform can then be formulated\n",
        "as a (large) set of linear equations. As each ray passes through a small\n",
        "fraction of the pixels in the image, this set of equations is sparse,\n",
        "allowing iterative solvers for sparse linear systems to tackle the system\n",
        "of equations. One iterative method has been particularly popular, namely\n",
        "Kaczmarz' method [3]_, which has the property that the solution will\n",
        "approach a least-squares solution of the equation set.\n",
        "\n",
        "The combination of the formulation of the reconstruction problem as a set\n",
        "of linear equations and an iterative solver makes algebraic techniques\n",
        "relatively flexible, hence some forms of prior knowledge can be\n",
        "incorporated with relative ease.\n",
        "\n",
        "``skimage`` provides one of the more popular variations of the algebraic\n",
        "reconstruction techniques: the Simultaneous Algebraic Reconstruction\n",
        "Technique (SART) [4]_. It uses Kaczmarz' method as the iterative\n",
        "solver. A good reconstruction is normally obtained in a single iteration,\n",
        "making the method computationally effective. Running one or more extra\n",
        "iterations will normally improve the reconstruction of sharp, high\n",
        "frequency features and reduce the mean squared error at the expense of\n",
        "increased high frequency noise (the user will need to decide on what number\n",
        "of iterations is best suited to the problem at hand. The implementation in\n",
        "``skimage`` allows prior information of the form of a lower and upper\n",
        "threshold on the reconstructed values to be supplied to the reconstruction.\n",
        "\n"
      ],
      "metadata": {}
    },
    {
      "cell_type": "code",
      "execution_count": null,
      "source": [
        "from skimage.transform import iradon_sart\r\n",
        "\r\n",
        "reconstruction_sart = iradon_sart(sinogram, theta=theta)\r\n",
        "error = reconstruction_sart - image\r\n",
        "print(f'SART (1 iteration) rms reconstruction error: '\r\n",
        "      f'{np.sqrt(np.mean(error**2)):.3g}')\r\n",
        "\r\n",
        "fig, axes = plt.subplots(2, 2, figsize=(8, 8.5), sharex=True, sharey=True)\r\n",
        "ax = axes.ravel()\r\n",
        "\r\n",
        "ax[0].set_title(\"Reconstruction\\nSART\")\r\n",
        "ax[0].imshow(reconstruction_sart, cmap=plt.cm.Greys_r)\r\n",
        "\r\n",
        "ax[1].set_title(\"Reconstruction error\\nSART\")\r\n",
        "ax[1].imshow(reconstruction_sart - image, cmap=plt.cm.Greys_r, **imkwargs)\r\n",
        "\r\n",
        "# Run a second iteration of SART by supplying the reconstruction\r\n",
        "# from the first iteration as an initial estimate\r\n",
        "reconstruction_sart2 = iradon_sart(sinogram, theta=theta,\r\n",
        "                                   image=reconstruction_sart)\r\n",
        "error = reconstruction_sart2 - image\r\n",
        "print(f'SART (2 iterations) rms reconstruction error: '\r\n",
        "      f'{np.sqrt(np.mean(error**2)):.3g}')\r\n",
        "\r\n",
        "ax[2].set_title(\"Reconstruction\\nSART, 2 iterations\")\r\n",
        "ax[2].imshow(reconstruction_sart2, cmap=plt.cm.Greys_r)\r\n",
        "\r\n",
        "ax[3].set_title(\"Reconstruction error\\nSART, 2 iterations\")\r\n",
        "ax[3].imshow(reconstruction_sart2 - image, cmap=plt.cm.Greys_r, **imkwargs)\r\n",
        "plt.show()"
      ],
      "outputs": [],
      "metadata": {
        "collapsed": false
      }
    }
  ],
  "metadata": {
    "kernelspec": {
      "display_name": "Python 3",
      "language": "python",
      "name": "python3"
    },
    "language_info": {
      "codemirror_mode": {
        "name": "ipython",
        "version": 3
      },
      "file_extension": ".py",
      "mimetype": "text/x-python",
      "name": "python",
      "nbconvert_exporter": "python",
      "pygments_lexer": "ipython3",
      "version": "3.7.12"
    }
  },
  "nbformat": 4,
  "nbformat_minor": 2
}